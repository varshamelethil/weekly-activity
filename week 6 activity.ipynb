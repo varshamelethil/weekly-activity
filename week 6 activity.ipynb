{
 "cells": [
  {
   "cell_type": "code",
   "execution_count": 1,
   "id": "222b9f48",
   "metadata": {},
   "outputs": [],
   "source": [
    "import pandas as pd\n",
    "import numpy as np\n",
    "import matplotlib.pyplot as plt\n",
    "import seaborn as sns"
   ]
  },
  {
   "cell_type": "code",
   "execution_count": 2,
   "id": "fa65cf86",
   "metadata": {},
   "outputs": [],
   "source": [
    "#importing dataset in to python environment\n",
    "data=pd.read_excel('Dataset_w6.xlsx')"
   ]
  },
  {
   "cell_type": "code",
   "execution_count": 3,
   "id": "941df36e",
   "metadata": {},
   "outputs": [
    {
     "data": {
      "text/html": [
       "<div>\n",
       "<style scoped>\n",
       "    .dataframe tbody tr th:only-of-type {\n",
       "        vertical-align: middle;\n",
       "    }\n",
       "\n",
       "    .dataframe tbody tr th {\n",
       "        vertical-align: top;\n",
       "    }\n",
       "\n",
       "    .dataframe thead th {\n",
       "        text-align: right;\n",
       "    }\n",
       "</style>\n",
       "<table border=\"1\" class=\"dataframe\">\n",
       "  <thead>\n",
       "    <tr style=\"text-align: right;\">\n",
       "      <th></th>\n",
       "      <th>country</th>\n",
       "      <th>Region</th>\n",
       "      <th>Surface area (km2)</th>\n",
       "      <th>Population in thousands (2017)</th>\n",
       "      <th>GDP per capita (current US$)</th>\n",
       "      <th>Agricultural production index</th>\n",
       "      <th>International trade: Imports (million US$)</th>\n",
       "    </tr>\n",
       "  </thead>\n",
       "  <tbody>\n",
       "    <tr>\n",
       "      <th>0</th>\n",
       "      <td>Afghanistan</td>\n",
       "      <td>SouthernAsia</td>\n",
       "      <td>652864</td>\n",
       "      <td>35530</td>\n",
       "      <td>623.2</td>\n",
       "      <td>125</td>\n",
       "      <td>3568</td>\n",
       "    </tr>\n",
       "    <tr>\n",
       "      <th>1</th>\n",
       "      <td>Albania</td>\n",
       "      <td>SouthernEurope</td>\n",
       "      <td>28748</td>\n",
       "      <td>2930</td>\n",
       "      <td>3984.2</td>\n",
       "      <td>134</td>\n",
       "      <td>4669</td>\n",
       "    </tr>\n",
       "    <tr>\n",
       "      <th>2</th>\n",
       "      <td>Algeria</td>\n",
       "      <td>NorthernAfrica</td>\n",
       "      <td>2381741</td>\n",
       "      <td>41318</td>\n",
       "      <td>4154.1</td>\n",
       "      <td>160</td>\n",
       "      <td>47091</td>\n",
       "    </tr>\n",
       "    <tr>\n",
       "      <th>3</th>\n",
       "      <td>Angola</td>\n",
       "      <td>MiddleAfrica</td>\n",
       "      <td>1246700</td>\n",
       "      <td>29784</td>\n",
       "      <td>4714.1</td>\n",
       "      <td>175</td>\n",
       "      <td>8790</td>\n",
       "    </tr>\n",
       "    <tr>\n",
       "      <th>4</th>\n",
       "      <td>Antigua and Barbuda</td>\n",
       "      <td>Caribbean</td>\n",
       "      <td>442</td>\n",
       "      <td>102</td>\n",
       "      <td>14764.5</td>\n",
       "      <td>88</td>\n",
       "      <td>491</td>\n",
       "    </tr>\n",
       "  </tbody>\n",
       "</table>\n",
       "</div>"
      ],
      "text/plain": [
       "               country          Region  Surface area (km2)  \\\n",
       "0          Afghanistan    SouthernAsia              652864   \n",
       "1              Albania  SouthernEurope               28748   \n",
       "2              Algeria  NorthernAfrica             2381741   \n",
       "3               Angola    MiddleAfrica             1246700   \n",
       "4  Antigua and Barbuda       Caribbean                 442   \n",
       "\n",
       "   Population in thousands (2017)  GDP per capita (current US$)  \\\n",
       "0                           35530                         623.2   \n",
       "1                            2930                        3984.2   \n",
       "2                           41318                        4154.1   \n",
       "3                           29784                        4714.1   \n",
       "4                             102                       14764.5   \n",
       "\n",
       "   Agricultural production index   International trade: Imports (million US$)  \n",
       "0                             125                                        3568  \n",
       "1                             134                                        4669  \n",
       "2                             160                                       47091  \n",
       "3                             175                                        8790  \n",
       "4                              88                                         491  "
      ]
     },
     "execution_count": 3,
     "metadata": {},
     "output_type": "execute_result"
    }
   ],
   "source": [
    "data.head()"
   ]
  },
  {
   "cell_type": "markdown",
   "id": "3a6fc2d1",
   "metadata": {},
   "source": [
    "### 1. Find out how many countries are there in the dataset. "
   ]
  },
  {
   "cell_type": "code",
   "execution_count": 7,
   "id": "b90fa265",
   "metadata": {},
   "outputs": [
    {
     "name": "stdout",
     "output_type": "stream",
     "text": [
      "Total no.of countries: 196\n"
     ]
    }
   ],
   "source": [
    "data1= data['country'].count()\n",
    "print('Total no.of countries:',data1)"
   ]
  },
  {
   "cell_type": "markdown",
   "id": "ce52b8a6",
   "metadata": {},
   "source": [
    "### 2. Examine the data by using visualizations. "
   ]
  },
  {
   "cell_type": "code",
   "execution_count": 38,
   "id": "754a988e",
   "metadata": {},
   "outputs": [
    {
     "data": {
      "text/plain": [
       "(array([ 0,  1,  2,  3,  4,  5,  6,  7,  8,  9, 10, 11, 12, 13, 14, 15, 16,\n",
       "        17, 18, 19, 20, 21]),\n",
       " [Text(0, 0, 'SouthernAsia'),\n",
       "  Text(1, 0, 'SouthernEurope'),\n",
       "  Text(2, 0, 'NorthernAfrica'),\n",
       "  Text(3, 0, 'MiddleAfrica'),\n",
       "  Text(4, 0, 'Caribbean'),\n",
       "  Text(5, 0, 'SouthAmerica'),\n",
       "  Text(6, 0, 'WesternAsia'),\n",
       "  Text(7, 0, 'Oceania'),\n",
       "  Text(8, 0, 'WesternEurope'),\n",
       "  Text(9, 0, 'EasternEurope'),\n",
       "  Text(10, 0, 'CentralAmerica'),\n",
       "  Text(11, 0, 'WesternAfrica'),\n",
       "  Text(12, 0, 'NorthernAmerica'),\n",
       "  Text(13, 0, 'SouthernAfrica'),\n",
       "  Text(14, 0, 'South-easternAsia'),\n",
       "  Text(15, 0, 'EasternAfrica'),\n",
       "  Text(16, 0, 'EasternAsia'),\n",
       "  Text(17, 0, 'Polynesia'),\n",
       "  Text(18, 0, 'NorthernEurope'),\n",
       "  Text(19, 0, 'Melanesia'),\n",
       "  Text(20, 0, 'CentralAsia'),\n",
       "  Text(21, 0, 'Micronesia')])"
      ]
     },
     "execution_count": 38,
     "metadata": {},
     "output_type": "execute_result"
    },
    {
     "data": {
      "image/png": "[encoded data removed]",
      "text/plain": [
       "<Figure size 576x576 with 1 Axes>"
      ]
     },
     "metadata": {
      "needs_background": "light"
     },
     "output_type": "display_data"
    }
   ],
   "source": [
    "plt.figure(figsize=(8,8))\n",
    "sns.barplot(x='Region',y='Surface area (km2)',data=data)\n",
    "plt.title('Region vs Surface Area',fontsize=15)\n",
    "plt.ylabel('Surface Area')\n",
    "plt.xticks(rotation=90)"
   ]
  },
  {
   "cell_type": "code",
   "execution_count": 35,
   "id": "518398dd",
   "metadata": {},
   "outputs": [
    {
     "data": {
      "image/png": "[encoded data removed]",
      "text/plain": [
       "<Figure size 576x576 with 1 Axes>"
      ]
     },
     "metadata": {
      "needs_background": "light"
     },
     "output_type": "display_data"
    }
   ],
   "source": [
    "plt.figure(figsize=(8,8))\n",
    "sns.barplot(x='Region',y='Agricultural production index ',data=data)\n",
    "plt.title('Region vs Agricultural production index',fontsize=15)\n",
    "plt.xticks(rotation=90)\n",
    "plt.tight_layout()\n",
    "plt.show()"
   ]
  },
  {
   "cell_type": "code",
   "execution_count": 12,
   "id": "f6b92ce2",
   "metadata": {},
   "outputs": [
    {
     "data": {
      "image/png": "[encoded data removed]",
      "text/plain": [
       "<Figure size 576x576 with 1 Axes>"
      ]
     },
     "metadata": {
      "needs_background": "light"
     },
     "output_type": "display_data"
    }
   ],
   "source": [
    "plt.figure(figsize=(8,8))\n",
    "data2=data[['country','GDP per capita (current US$)']]\n",
    "data2=data.sort_values('GDP per capita (current US$)',ascending=False)\n",
    "sns.barplot(x='country',y='GDP per capita (current US$)',data=data2)\n",
    "data2=data2.head(5)"
   ]
  },
  {
   "cell_type": "code",
   "execution_count": 32,
   "id": "8931fa00",
   "metadata": {},
   "outputs": [
    {
     "data": {
      "text/plain": [
       "<AxesSubplot:xlabel='Region', ylabel='Surface area (km2)'>"
      ]
     },
     "execution_count": 32,
     "metadata": {},
     "output_type": "execute_result"
    },
    {
     "data": {
      "image/png": "[encoded data removed]",
      "text/plain": [
       "<Figure size 432x288 with 1 Axes>"
      ]
     },
     "metadata": {
      "needs_background": "light"
     },
     "output_type": "display_data"
    }
   ],
   "source": [
    "sns.scatterplot(x='Region',y='Surface area (km2)',data=data)"
   ]
  },
  {
   "cell_type": "code",
   "execution_count": 37,
   "id": "456fb2ac",
   "metadata": {},
   "outputs": [
    {
     "data": {
      "text/plain": [
       "<AxesSubplot:xlabel='Region', ylabel='International trade: Imports (million US$)'>"
      ]
     },
     "execution_count": 37,
     "metadata": {},
     "output_type": "execute_result"
    },
    {
     "data": {
      "image/png": "[encoded data removed]",
      "text/plain": [
       "<Figure size 432x288 with 1 Axes>"
      ]
     },
     "metadata": {
      "needs_background": "light"
     },
     "output_type": "display_data"
    }
   ],
   "source": [
    "sns.scatterplot(x='Region',y='International trade: Imports (million US$)',data=data)"
   ]
  },
  {
   "cell_type": "markdown",
   "id": "ff4f7a9c",
   "metadata": {},
   "source": [
    "### 3. Find out how many countries with respect to the region are available in the dataset "
   ]
  },
  {
   "cell_type": "code",
   "execution_count": 15,
   "id": "98ff245d",
   "metadata": {},
   "outputs": [
    {
     "data": {
      "text/html": [
       "<div>\n",
       "<style scoped>\n",
       "    .dataframe tbody tr th:only-of-type {\n",
       "        vertical-align: middle;\n",
       "    }\n",
       "\n",
       "    .dataframe tbody tr th {\n",
       "        vertical-align: top;\n",
       "    }\n",
       "\n",
       "    .dataframe thead th {\n",
       "        text-align: right;\n",
       "    }\n",
       "</style>\n",
       "<table border=\"1\" class=\"dataframe\">\n",
       "  <thead>\n",
       "    <tr style=\"text-align: right;\">\n",
       "      <th></th>\n",
       "      <th>country</th>\n",
       "    </tr>\n",
       "    <tr>\n",
       "      <th>Region</th>\n",
       "      <th></th>\n",
       "    </tr>\n",
       "  </thead>\n",
       "  <tbody>\n",
       "    <tr>\n",
       "      <th>WesternAsia</th>\n",
       "      <td>18</td>\n",
       "    </tr>\n",
       "    <tr>\n",
       "      <th>EasternAfrica</th>\n",
       "      <td>17</td>\n",
       "    </tr>\n",
       "    <tr>\n",
       "      <th>Caribbean</th>\n",
       "      <td>16</td>\n",
       "    </tr>\n",
       "    <tr>\n",
       "      <th>WesternAfrica</th>\n",
       "      <td>15</td>\n",
       "    </tr>\n",
       "    <tr>\n",
       "      <th>SouthernEurope</th>\n",
       "      <td>12</td>\n",
       "    </tr>\n",
       "    <tr>\n",
       "      <th>SouthAmerica</th>\n",
       "      <td>12</td>\n",
       "    </tr>\n",
       "    <tr>\n",
       "      <th>South-easternAsia</th>\n",
       "      <td>11</td>\n",
       "    </tr>\n",
       "    <tr>\n",
       "      <th>NorthernEurope</th>\n",
       "      <td>10</td>\n",
       "    </tr>\n",
       "    <tr>\n",
       "      <th>EasternEurope</th>\n",
       "      <td>10</td>\n",
       "    </tr>\n",
       "    <tr>\n",
       "      <th>MiddleAfrica</th>\n",
       "      <td>9</td>\n",
       "    </tr>\n",
       "    <tr>\n",
       "      <th>SouthernAsia</th>\n",
       "      <td>9</td>\n",
       "    </tr>\n",
       "    <tr>\n",
       "      <th>CentralAmerica</th>\n",
       "      <td>8</td>\n",
       "    </tr>\n",
       "    <tr>\n",
       "      <th>EasternAsia</th>\n",
       "      <td>7</td>\n",
       "    </tr>\n",
       "    <tr>\n",
       "      <th>WesternEurope</th>\n",
       "      <td>7</td>\n",
       "    </tr>\n",
       "    <tr>\n",
       "      <th>NorthernAfrica</th>\n",
       "      <td>5</td>\n",
       "    </tr>\n",
       "    <tr>\n",
       "      <th>Polynesia</th>\n",
       "      <td>5</td>\n",
       "    </tr>\n",
       "    <tr>\n",
       "      <th>Melanesia</th>\n",
       "      <td>5</td>\n",
       "    </tr>\n",
       "    <tr>\n",
       "      <th>SouthernAfrica</th>\n",
       "      <td>5</td>\n",
       "    </tr>\n",
       "    <tr>\n",
       "      <th>CentralAsia</th>\n",
       "      <td>5</td>\n",
       "    </tr>\n",
       "    <tr>\n",
       "      <th>NorthernAmerica</th>\n",
       "      <td>4</td>\n",
       "    </tr>\n",
       "    <tr>\n",
       "      <th>Micronesia</th>\n",
       "      <td>4</td>\n",
       "    </tr>\n",
       "    <tr>\n",
       "      <th>Oceania</th>\n",
       "      <td>2</td>\n",
       "    </tr>\n",
       "  </tbody>\n",
       "</table>\n",
       "</div>"
      ],
      "text/plain": [
       "                   country\n",
       "Region                    \n",
       "WesternAsia             18\n",
       "EasternAfrica           17\n",
       "Caribbean               16\n",
       "WesternAfrica           15\n",
       "SouthernEurope          12\n",
       "SouthAmerica            12\n",
       "South-easternAsia       11\n",
       "NorthernEurope          10\n",
       "EasternEurope           10\n",
       "MiddleAfrica             9\n",
       "SouthernAsia             9\n",
       "CentralAmerica           8\n",
       "EasternAsia              7\n",
       "WesternEurope            7\n",
       "NorthernAfrica           5\n",
       "Polynesia                5\n",
       "Melanesia                5\n",
       "SouthernAfrica           5\n",
       "CentralAsia              5\n",
       "NorthernAmerica          4\n",
       "Micronesia               4\n",
       "Oceania                  2"
      ]
     },
     "execution_count": 15,
     "metadata": {},
     "output_type": "execute_result"
    }
   ],
   "source": [
    "data4=data.groupby('Region')['country'].count().to_frame()\n",
    "data4.sort_values('country',ascending=False)"
   ]
  },
  {
   "cell_type": "markdown",
   "id": "e418900c",
   "metadata": {},
   "source": [
    "### 4. On average which region has the highest GDP per capita (current US$)"
   ]
  },
  {
   "cell_type": "code",
   "execution_count": 27,
   "id": "5906711f",
   "metadata": {},
   "outputs": [
    {
     "data": {
      "text/html": [
       "<div>\n",
       "<style scoped>\n",
       "    .dataframe tbody tr th:only-of-type {\n",
       "        vertical-align: middle;\n",
       "    }\n",
       "\n",
       "    .dataframe tbody tr th {\n",
       "        vertical-align: top;\n",
       "    }\n",
       "\n",
       "    .dataframe thead th {\n",
       "        text-align: right;\n",
       "    }\n",
       "</style>\n",
       "<table border=\"1\" class=\"dataframe\">\n",
       "  <thead>\n",
       "    <tr style=\"text-align: right;\">\n",
       "      <th></th>\n",
       "      <th>count</th>\n",
       "      <th>mean</th>\n",
       "      <th>std</th>\n",
       "      <th>min</th>\n",
       "      <th>25%</th>\n",
       "      <th>50%</th>\n",
       "      <th>75%</th>\n",
       "      <th>max</th>\n",
       "    </tr>\n",
       "    <tr>\n",
       "      <th>Region</th>\n",
       "      <th></th>\n",
       "      <th></th>\n",
       "      <th></th>\n",
       "      <th></th>\n",
       "      <th></th>\n",
       "      <th></th>\n",
       "      <th></th>\n",
       "      <th></th>\n",
       "    </tr>\n",
       "  </thead>\n",
       "  <tbody>\n",
       "    <tr>\n",
       "      <th>NorthernAmerica</th>\n",
       "      <td>4.0</td>\n",
       "      <td>57659.000000</td>\n",
       "      <td>25749.619445</td>\n",
       "      <td>36976.7</td>\n",
       "      <td>41648.375</td>\n",
       "      <td>49629.70</td>\n",
       "      <td>65640.325</td>\n",
       "      <td>94399.9</td>\n",
       "    </tr>\n",
       "    <tr>\n",
       "      <th>WesternEurope</th>\n",
       "      <td>7.0</td>\n",
       "      <td>55387.128571</td>\n",
       "      <td>24770.467728</td>\n",
       "      <td>36304.2</td>\n",
       "      <td>40982.000</td>\n",
       "      <td>44117.70</td>\n",
       "      <td>62581.600</td>\n",
       "      <td>100160.8</td>\n",
       "    </tr>\n",
       "    <tr>\n",
       "      <th>Oceania</th>\n",
       "      <td>2.0</td>\n",
       "      <td>44823.250000</td>\n",
       "      <td>9233.329638</td>\n",
       "      <td>38294.3</td>\n",
       "      <td>41558.775</td>\n",
       "      <td>44823.25</td>\n",
       "      <td>48087.725</td>\n",
       "      <td>51352.2</td>\n",
       "    </tr>\n",
       "    <tr>\n",
       "      <th>NorthernEurope</th>\n",
       "      <td>10.0</td>\n",
       "      <td>42098.220000</td>\n",
       "      <td>20671.030185</td>\n",
       "      <td>13704.1</td>\n",
       "      <td>23371.025</td>\n",
       "      <td>47424.95</td>\n",
       "      <td>52595.975</td>\n",
       "      <td>74185.5</td>\n",
       "    </tr>\n",
       "    <tr>\n",
       "      <th>EasternAsia</th>\n",
       "      <td>7.0</td>\n",
       "      <td>27967.614286</td>\n",
       "      <td>27485.120923</td>\n",
       "      <td>648.0</td>\n",
       "      <td>6041.250</td>\n",
       "      <td>27396.70</td>\n",
       "      <td>38529.850</td>\n",
       "      <td>78586.4</td>\n",
       "    </tr>\n",
       "  </tbody>\n",
       "</table>\n",
       "</div>"
      ],
      "text/plain": [
       "                 count          mean           std      min        25%  \\\n",
       "Region                                                                   \n",
       "NorthernAmerica    4.0  57659.000000  25749.619445  36976.7  41648.375   \n",
       "WesternEurope      7.0  55387.128571  24770.467728  36304.2  40982.000   \n",
       "Oceania            2.0  44823.250000   9233.329638  38294.3  41558.775   \n",
       "NorthernEurope    10.0  42098.220000  20671.030185  13704.1  23371.025   \n",
       "EasternAsia        7.0  27967.614286  27485.120923    648.0   6041.250   \n",
       "\n",
       "                      50%        75%       max  \n",
       "Region                                          \n",
       "NorthernAmerica  49629.70  65640.325   94399.9  \n",
       "WesternEurope    44117.70  62581.600  100160.8  \n",
       "Oceania          44823.25  48087.725   51352.2  \n",
       "NorthernEurope   47424.95  52595.975   74185.5  \n",
       "EasternAsia      27396.70  38529.850   78586.4  "
      ]
     },
     "execution_count": 27,
     "metadata": {},
     "output_type": "execute_result"
    }
   ],
   "source": [
    "data5=data.groupby('Region')['GDP per capita (current US$)'].describe()\n",
    "data5.sort_values(by=\"mean\",ascending=False).head()\n"
   ]
  },
  {
   "cell_type": "markdown",
   "id": "6b1e0c69",
   "metadata": {},
   "source": [
    "### 4. On average which region has the highest International trade: Imports (million US$)"
   ]
  },
  {
   "cell_type": "code",
   "execution_count": 28,
   "id": "9fbe6f6f",
   "metadata": {},
   "outputs": [
    {
     "data": {
      "text/html": [
       "<div>\n",
       "<style scoped>\n",
       "    .dataframe tbody tr th:only-of-type {\n",
       "        vertical-align: middle;\n",
       "    }\n",
       "\n",
       "    .dataframe tbody tr th {\n",
       "        vertical-align: top;\n",
       "    }\n",
       "\n",
       "    .dataframe thead th {\n",
       "        text-align: right;\n",
       "    }\n",
       "</style>\n",
       "<table border=\"1\" class=\"dataframe\">\n",
       "  <thead>\n",
       "    <tr style=\"text-align: right;\">\n",
       "      <th></th>\n",
       "      <th>count</th>\n",
       "      <th>mean</th>\n",
       "      <th>std</th>\n",
       "      <th>min</th>\n",
       "      <th>25%</th>\n",
       "      <th>50%</th>\n",
       "      <th>75%</th>\n",
       "      <th>max</th>\n",
       "    </tr>\n",
       "    <tr>\n",
       "      <th>Region</th>\n",
       "      <th></th>\n",
       "      <th></th>\n",
       "      <th></th>\n",
       "      <th></th>\n",
       "      <th></th>\n",
       "      <th></th>\n",
       "      <th></th>\n",
       "      <th></th>\n",
       "    </tr>\n",
       "  </thead>\n",
       "  <tbody>\n",
       "    <tr>\n",
       "      <th>NorthernAmerica</th>\n",
       "      <td>4.0</td>\n",
       "      <td>663552.250000</td>\n",
       "      <td>1.074266e+06</td>\n",
       "      <td>623.0</td>\n",
       "      <td>884.00</td>\n",
       "      <td>201962.5</td>\n",
       "      <td>864630.75</td>\n",
       "      <td>2249661.0</td>\n",
       "    </tr>\n",
       "    <tr>\n",
       "      <th>EasternAsia</th>\n",
       "      <td>7.0</td>\n",
       "      <td>451995.000000</td>\n",
       "      <td>5.666631e+05</td>\n",
       "      <td>2757.0</td>\n",
       "      <td>6141.00</td>\n",
       "      <td>406182.0</td>\n",
       "      <td>577024.00</td>\n",
       "      <td>1588696.0</td>\n",
       "    </tr>\n",
       "    <tr>\n",
       "      <th>WesternEurope</th>\n",
       "      <td>7.0</td>\n",
       "      <td>407498.428571</td>\n",
       "      <td>3.386477e+05</td>\n",
       "      <td>19124.0</td>\n",
       "      <td>209228.00</td>\n",
       "      <td>372713.0</td>\n",
       "      <td>490762.00</td>\n",
       "      <td>1060672.0</td>\n",
       "    </tr>\n",
       "    <tr>\n",
       "      <th>NorthernEurope</th>\n",
       "      <td>10.0</td>\n",
       "      <td>113407.200000</td>\n",
       "      <td>1.881145e+05</td>\n",
       "      <td>5703.0</td>\n",
       "      <td>18694.50</td>\n",
       "      <td>66487.5</td>\n",
       "      <td>83099.00</td>\n",
       "      <td>635570.0</td>\n",
       "    </tr>\n",
       "    <tr>\n",
       "      <th>Oceania</th>\n",
       "      <td>2.0</td>\n",
       "      <td>112914.500000</td>\n",
       "      <td>1.081753e+05</td>\n",
       "      <td>36423.0</td>\n",
       "      <td>74668.75</td>\n",
       "      <td>112914.5</td>\n",
       "      <td>151160.25</td>\n",
       "      <td>189406.0</td>\n",
       "    </tr>\n",
       "  </tbody>\n",
       "</table>\n",
       "</div>"
      ],
      "text/plain": [
       "                 count           mean           std      min        25%  \\\n",
       "Region                                                                    \n",
       "NorthernAmerica    4.0  663552.250000  1.074266e+06    623.0     884.00   \n",
       "EasternAsia        7.0  451995.000000  5.666631e+05   2757.0    6141.00   \n",
       "WesternEurope      7.0  407498.428571  3.386477e+05  19124.0  209228.00   \n",
       "NorthernEurope    10.0  113407.200000  1.881145e+05   5703.0   18694.50   \n",
       "Oceania            2.0  112914.500000  1.081753e+05  36423.0   74668.75   \n",
       "\n",
       "                      50%        75%        max  \n",
       "Region                                           \n",
       "NorthernAmerica  201962.5  864630.75  2249661.0  \n",
       "EasternAsia      406182.0  577024.00  1588696.0  \n",
       "WesternEurope    372713.0  490762.00  1060672.0  \n",
       "NorthernEurope    66487.5   83099.00   635570.0  \n",
       "Oceania          112914.5  151160.25   189406.0  "
      ]
     },
     "execution_count": 28,
     "metadata": {},
     "output_type": "execute_result"
    }
   ],
   "source": [
    "data6=data.groupby('Region')['International trade: Imports (million US$)'].describe()\n",
    "data6.sort_values(by=\"mean\",ascending=False).head()\n"
   ]
  },
  {
   "cell_type": "markdown",
   "id": "357a3e8b",
   "metadata": {},
   "source": [
    "### 5. Find out which region has more consistent with respect to GDP per capita (current US$) "
   ]
  },
  {
   "cell_type": "code",
   "execution_count": 29,
   "id": "554185d4",
   "metadata": {},
   "outputs": [
    {
     "data": {
      "text/html": [
       "<div>\n",
       "<style scoped>\n",
       "    .dataframe tbody tr th:only-of-type {\n",
       "        vertical-align: middle;\n",
       "    }\n",
       "\n",
       "    .dataframe tbody tr th {\n",
       "        vertical-align: top;\n",
       "    }\n",
       "\n",
       "    .dataframe thead th {\n",
       "        text-align: right;\n",
       "    }\n",
       "</style>\n",
       "<table border=\"1\" class=\"dataframe\">\n",
       "  <thead>\n",
       "    <tr style=\"text-align: right;\">\n",
       "      <th></th>\n",
       "      <th>Region</th>\n",
       "      <th>GDP per capita (current US$)</th>\n",
       "    </tr>\n",
       "  </thead>\n",
       "  <tbody>\n",
       "    <tr>\n",
       "      <th>0</th>\n",
       "      <td>WesternAsia</td>\n",
       "      <td>1106.4</td>\n",
       "    </tr>\n",
       "  </tbody>\n",
       "</table>\n",
       "</div>"
      ],
      "text/plain": [
       "        Region  GDP per capita (current US$)\n",
       "0  WesternAsia                        1106.4"
      ]
     },
     "execution_count": 29,
     "metadata": {},
     "output_type": "execute_result"
    }
   ],
   "source": [
    "data[['Region','GDP per capita (current US$)']].mode()"
   ]
  },
  {
   "cell_type": "markdown",
   "id": "7d7e9d29",
   "metadata": {},
   "source": []
  }
 ],
 "metadata": {
  "kernelspec": {
   "display_name": "Python 3",
   "language": "python",
   "name": "python3"
  },
  "language_info": {
   "codemirror_mode": {
    "name": "ipython",
    "version": 3
   },
   "file_extension": ".py",
   "mimetype": "text/x-python",
   "name": "python",
   "nbconvert_exporter": "python",
   "pygments_lexer": "ipython3",
   "version": "3.8.8"
  }
 },
 "nbformat": 4,
 "nbformat_minor": 5
}
